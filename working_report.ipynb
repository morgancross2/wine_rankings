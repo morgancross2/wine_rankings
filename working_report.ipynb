{
 "cells": [
  {
   "cell_type": "code",
   "execution_count": 1,
   "id": "0dd76024-009b-4836-96f7-470ebd0750cc",
   "metadata": {},
   "outputs": [
    {
     "ename": "ModuleNotFoundError",
     "evalue": "No module named 'wrangle'",
     "output_type": "error",
     "traceback": [
      "\u001b[0;31m---------------------------------------------------------------------------\u001b[0m",
      "\u001b[0;31mModuleNotFoundError\u001b[0m                       Traceback (most recent call last)",
      "Input \u001b[0;32mIn [1]\u001b[0m, in \u001b[0;36m<cell line: 6>\u001b[0;34m()\u001b[0m\n\u001b[1;32m      3\u001b[0m \u001b[38;5;28;01mimport\u001b[39;00m \u001b[38;5;21;01mmatplotlib\u001b[39;00m\u001b[38;5;21;01m.\u001b[39;00m\u001b[38;5;21;01mpyplot\u001b[39;00m \u001b[38;5;28;01mas\u001b[39;00m \u001b[38;5;21;01mplt\u001b[39;00m\n\u001b[1;32m      4\u001b[0m \u001b[38;5;28;01mimport\u001b[39;00m \u001b[38;5;21;01mseaborn\u001b[39;00m \u001b[38;5;28;01mas\u001b[39;00m \u001b[38;5;21;01msns\u001b[39;00m\n\u001b[0;32m----> 6\u001b[0m \u001b[38;5;28;01mimport\u001b[39;00m \u001b[38;5;21;01mwrangle\u001b[39;00m\n",
      "\u001b[0;31mModuleNotFoundError\u001b[0m: No module named 'wrangle'"
     ]
    }
   ],
   "source": [
    "import pandas as pd\n",
    "import requests\n",
    "import matplotlib.pyplot as plt\n",
    "import seaborn as sns\n",
    "\n",
    "import wrangle"
   ]
  },
  {
   "cell_type": "code",
   "execution_count": null,
   "id": "2d5c960f-350c-45e2-b588-4e0309c72a82",
   "metadata": {},
   "outputs": [],
   "source": []
  },
  {
   "cell_type": "code",
   "execution_count": null,
   "id": "ac47ad99-1358-4aec-97a2-2f1f927f8919",
   "metadata": {},
   "outputs": [],
   "source": []
  },
  {
   "cell_type": "code",
   "execution_count": null,
   "id": "09bc68be-b946-46d2-924e-f795e98b9e82",
   "metadata": {},
   "outputs": [],
   "source": []
  },
  {
   "cell_type": "code",
   "execution_count": null,
   "id": "b92dcbfe-6ddc-4f9f-b956-fd5342d45be7",
   "metadata": {},
   "outputs": [],
   "source": []
  },
  {
   "cell_type": "code",
   "execution_count": null,
   "id": "bf7511e9-2937-4ed1-8099-e4d6f784eb87",
   "metadata": {},
   "outputs": [],
   "source": []
  },
  {
   "cell_type": "code",
   "execution_count": 25,
   "id": "a6af0774-1613-4c4b-8ae1-2a696789bff2",
   "metadata": {},
   "outputs": [],
   "source": [
    "url = 'https://top100.winespectator.com/wp-content/themes/top100-theme/src/data/1988.json'"
   ]
  },
  {
   "cell_type": "code",
   "execution_count": 26,
   "id": "997fa73d-da4e-4f71-be28-61da2dd3330b",
   "metadata": {},
   "outputs": [],
   "source": [
    "wines = requests.get(url).json()"
   ]
  },
  {
   "cell_type": "code",
   "execution_count": 27,
   "id": "550c14d6-2c5a-4f98-901e-58b9e3a78c14",
   "metadata": {},
   "outputs": [],
   "source": [
    "url = 'https://top100.winespectator.com/wp-content/themes/top100-theme/src/data/'\n",
    "wines = []\n",
    "year = 1988\n",
    "while year <= 2021:\n",
    "    new_wines = requests.get(url+str(year)+'.json').json()\n",
    "    wines.extend(new_wines)\n",
    "    year += 1"
   ]
  },
  {
   "cell_type": "code",
   "execution_count": 28,
   "id": "65b3b0f1-8cc1-4cf8-b8a2-be84867a5c7c",
   "metadata": {},
   "outputs": [
    {
     "data": {
      "text/plain": [
       "3400"
      ]
     },
     "execution_count": 28,
     "metadata": {},
     "output_type": "execute_result"
    }
   ],
   "source": [
    "len(wines)"
   ]
  },
  {
   "cell_type": "code",
   "execution_count": 31,
   "id": "ca57d022-865c-4ba1-a137-df2e44b4d5ef",
   "metadata": {},
   "outputs": [],
   "source": [
    "df = pd.DataFrame(wines)"
   ]
  },
  {
   "cell_type": "code",
   "execution_count": 32,
   "id": "c7a64aae-0d40-4aae-bd1d-9ed5eb3f1347",
   "metadata": {},
   "outputs": [
    {
     "data": {
      "text/html": [
       "<div>\n",
       "<style scoped>\n",
       "    .dataframe tbody tr th:only-of-type {\n",
       "        vertical-align: middle;\n",
       "    }\n",
       "\n",
       "    .dataframe tbody tr th {\n",
       "        vertical-align: top;\n",
       "    }\n",
       "\n",
       "    .dataframe thead th {\n",
       "        text-align: right;\n",
       "    }\n",
       "</style>\n",
       "<table border=\"1\" class=\"dataframe\">\n",
       "  <thead>\n",
       "    <tr style=\"text-align: right;\">\n",
       "      <th></th>\n",
       "      <th>id</th>\n",
       "      <th>winery_full</th>\n",
       "      <th>winery_full_nonentities</th>\n",
       "      <th>wine_full</th>\n",
       "      <th>vintage</th>\n",
       "      <th>note</th>\n",
       "      <th>taster_initials</th>\n",
       "      <th>color</th>\n",
       "      <th>country</th>\n",
       "      <th>region</th>\n",
       "      <th>score</th>\n",
       "      <th>price</th>\n",
       "      <th>issue_date</th>\n",
       "      <th>top100_year</th>\n",
       "      <th>top100_rank</th>\n",
       "      <th>alternate_bottle_size</th>\n",
       "    </tr>\n",
       "  </thead>\n",
       "  <tbody>\n",
       "    <tr>\n",
       "      <th>0</th>\n",
       "      <td>5893</td>\n",
       "      <td>Château Lynch Bages</td>\n",
       "      <td>Château Lynch Bages</td>\n",
       "      <td>Pauillac</td>\n",
       "      <td>1985</td>\n",
       "      <td>Rich and massively concentrated, with layers o...</td>\n",
       "      <td></td>\n",
       "      <td>red</td>\n",
       "      <td>France</td>\n",
       "      <td>Bordeaux</td>\n",
       "      <td>97</td>\n",
       "      <td>37</td>\n",
       "      <td>Apr 30, 1988</td>\n",
       "      <td>1988</td>\n",
       "      <td>1</td>\n",
       "      <td>NaN</td>\n",
       "    </tr>\n",
       "    <tr>\n",
       "      <th>1</th>\n",
       "      <td>5786</td>\n",
       "      <td>Château Margaux</td>\n",
       "      <td>Château Margaux</td>\n",
       "      <td>Margaux</td>\n",
       "      <td>1985</td>\n",
       "      <td>A beautifully structured and proportioned wine...</td>\n",
       "      <td></td>\n",
       "      <td>red</td>\n",
       "      <td>France</td>\n",
       "      <td>Bordeaux</td>\n",
       "      <td>99</td>\n",
       "      <td>76</td>\n",
       "      <td>Apr 30, 1988</td>\n",
       "      <td>1988</td>\n",
       "      <td>2</td>\n",
       "      <td>NaN</td>\n",
       "    </tr>\n",
       "    <tr>\n",
       "      <th>2</th>\n",
       "      <td>70904</td>\n",
       "      <td>Domaine de la Romanée-Conti</td>\n",
       "      <td>Domaine de la Romanée-Conti</td>\n",
       "      <td>Richebourg</td>\n",
       "      <td>1985</td>\n",
       "      <td>A truly great wine. Amazing concentration, bri...</td>\n",
       "      <td>HS</td>\n",
       "      <td>red</td>\n",
       "      <td>France</td>\n",
       "      <td>Burgundy</td>\n",
       "      <td>100</td>\n",
       "      <td>210</td>\n",
       "      <td>Feb 29, 1988</td>\n",
       "      <td>1988</td>\n",
       "      <td>3</td>\n",
       "      <td>NaN</td>\n",
       "    </tr>\n",
       "    <tr>\n",
       "      <th>3</th>\n",
       "      <td>4652</td>\n",
       "      <td>Tollot-Beaut</td>\n",
       "      <td>Tollot-Beaut</td>\n",
       "      <td>Corton</td>\n",
       "      <td>1985</td>\n",
       "      <td>Rich, rough and magnificently complex, a power...</td>\n",
       "      <td></td>\n",
       "      <td>red</td>\n",
       "      <td>France</td>\n",
       "      <td>Burgundy</td>\n",
       "      <td>97</td>\n",
       "      <td>75</td>\n",
       "      <td>Mar 15, 1988</td>\n",
       "      <td>1988</td>\n",
       "      <td>4</td>\n",
       "      <td>NaN</td>\n",
       "    </tr>\n",
       "    <tr>\n",
       "      <th>4</th>\n",
       "      <td>8365</td>\n",
       "      <td>Gaja</td>\n",
       "      <td>Gaja</td>\n",
       "      <td>Barbaresco Sorì Tildìn</td>\n",
       "      <td>1985</td>\n",
       "      <td>A majestic wine, beautifully harmonious, seaml...</td>\n",
       "      <td></td>\n",
       "      <td>red</td>\n",
       "      <td>Italy</td>\n",
       "      <td>Piedmont</td>\n",
       "      <td>97</td>\n",
       "      <td>94</td>\n",
       "      <td>Dec 15, 1988</td>\n",
       "      <td>1988</td>\n",
       "      <td>5</td>\n",
       "      <td>NaN</td>\n",
       "    </tr>\n",
       "  </tbody>\n",
       "</table>\n",
       "</div>"
      ],
      "text/plain": [
       "      id                  winery_full      winery_full_nonentities  \\\n",
       "0   5893          Château Lynch Bages          Château Lynch Bages   \n",
       "1   5786              Château Margaux              Château Margaux   \n",
       "2  70904  Domaine de la Romanée-Conti  Domaine de la Romanée-Conti   \n",
       "3   4652                 Tollot-Beaut                 Tollot-Beaut   \n",
       "4   8365                         Gaja                         Gaja   \n",
       "\n",
       "                wine_full vintage  \\\n",
       "0                Pauillac    1985   \n",
       "1                 Margaux    1985   \n",
       "2              Richebourg    1985   \n",
       "3                  Corton    1985   \n",
       "4  Barbaresco Sorì Tildìn    1985   \n",
       "\n",
       "                                                note taster_initials color  \\\n",
       "0  Rich and massively concentrated, with layers o...                   red   \n",
       "1  A beautifully structured and proportioned wine...                   red   \n",
       "2  A truly great wine. Amazing concentration, bri...              HS   red   \n",
       "3  Rich, rough and magnificently complex, a power...                   red   \n",
       "4  A majestic wine, beautifully harmonious, seaml...                   red   \n",
       "\n",
       "  country    region  score price    issue_date  top100_year  top100_rank  \\\n",
       "0  France  Bordeaux     97    37  Apr 30, 1988         1988            1   \n",
       "1  France  Bordeaux     99    76  Apr 30, 1988         1988            2   \n",
       "2  France  Burgundy    100   210  Feb 29, 1988         1988            3   \n",
       "3  France  Burgundy     97    75  Mar 15, 1988         1988            4   \n",
       "4   Italy  Piedmont     97    94  Dec 15, 1988         1988            5   \n",
       "\n",
       "  alternate_bottle_size  \n",
       "0                   NaN  \n",
       "1                   NaN  \n",
       "2                   NaN  \n",
       "3                   NaN  \n",
       "4                   NaN  "
      ]
     },
     "execution_count": 32,
     "metadata": {},
     "output_type": "execute_result"
    }
   ],
   "source": [
    "df.head()"
   ]
  },
  {
   "cell_type": "code",
   "execution_count": 45,
   "id": "20b37691-f10f-499f-ac55-10bbcdc1afbe",
   "metadata": {},
   "outputs": [
    {
     "name": "stdout",
     "output_type": "stream",
     "text": [
      "<class 'pandas.core.frame.DataFrame'>\n",
      "RangeIndex: 3400 entries, 0 to 3399\n",
      "Data columns (total 16 columns):\n",
      " #   Column                   Non-Null Count  Dtype \n",
      "---  ------                   --------------  ----- \n",
      " 0   id                       3400 non-null   object\n",
      " 1   winery_full              3400 non-null   object\n",
      " 2   winery_full_nonentities  2700 non-null   object\n",
      " 3   wine_full                3400 non-null   object\n",
      " 4   vintage                  3400 non-null   object\n",
      " 5   note                     3400 non-null   object\n",
      " 6   taster_initials          3400 non-null   object\n",
      " 7   color                    3400 non-null   object\n",
      " 8   country                  3400 non-null   object\n",
      " 9   region                   3400 non-null   object\n",
      " 10  score                    3400 non-null   int64 \n",
      " 11  price                    3400 non-null   object\n",
      " 12  issue_date               3400 non-null   object\n",
      " 13  top100_year              3400 non-null   int64 \n",
      " 14  top100_rank              3400 non-null   int64 \n",
      " 15  alternate_bottle_size    200 non-null    object\n",
      "dtypes: int64(3), object(13)\n",
      "memory usage: 425.1+ KB\n"
     ]
    }
   ],
   "source": [
    "df.info()"
   ]
  },
  {
   "cell_type": "code",
   "execution_count": 47,
   "id": "d8e81dba-98c9-47a7-ab7d-ac0e3f8635cc",
   "metadata": {},
   "outputs": [
    {
     "data": {
      "text/plain": [
       "1990    147\n",
       "1997    126\n",
       "2015    121\n",
       "2010    119\n",
       "2005    115\n",
       "1985    110\n",
       "2001    110\n",
       "2007    109\n",
       "2016    108\n",
       "1995    107\n",
       "2003    105\n",
       "1999    104\n",
       "2004    103\n",
       "2009    100\n",
       "2008     99\n",
       "1994     98\n",
       "1988     96\n",
       "1986     94\n",
       "2006     93\n",
       "2012     93\n",
       "1996     90\n",
       "1992     87\n",
       "2017     87\n",
       "1989     86\n",
       "2014     86\n",
       "2011     82\n",
       "1998     82\n",
       "2000     82\n",
       "2018     81\n",
       "2002     78\n",
       "2013     71\n",
       "1993     71\n",
       "1987     69\n",
       "1991     63\n",
       "NV       58\n",
       "2019     32\n",
       "1982     11\n",
       "2020     10\n",
       "1983      6\n",
       "1984      6\n",
       "1980      1\n",
       "1979      1\n",
       "1981      1\n",
       "1975      1\n",
       "1970      1\n",
       "Name: vintage, dtype: int64"
      ]
     },
     "execution_count": 47,
     "metadata": {},
     "output_type": "execute_result"
    }
   ],
   "source": [
    "df.vintage.value_counts()"
   ]
  },
  {
   "cell_type": "code",
   "execution_count": 35,
   "id": "16b874ac-86fa-4857-9b5d-39c042678b55",
   "metadata": {},
   "outputs": [
    {
     "data": {
      "text/plain": [
       "id                            0\n",
       "winery_full                   0\n",
       "winery_full_nonentities     700\n",
       "wine_full                     0\n",
       "vintage                       0\n",
       "note                          0\n",
       "taster_initials               0\n",
       "color                         0\n",
       "country                       0\n",
       "region                        0\n",
       "score                         0\n",
       "price                         0\n",
       "issue_date                    0\n",
       "top100_year                   0\n",
       "top100_rank                   0\n",
       "alternate_bottle_size      3200\n",
       "dtype: int64"
      ]
     },
     "execution_count": 35,
     "metadata": {},
     "output_type": "execute_result"
    }
   ],
   "source": [
    "df.isnull().sum()"
   ]
  },
  {
   "cell_type": "code",
   "execution_count": null,
   "id": "5de8ae0f-e68e-473a-87da-689717fdd6e3",
   "metadata": {},
   "outputs": [],
   "source": []
  }
 ],
 "metadata": {
  "kernelspec": {
   "display_name": "Python 3 (ipykernel)",
   "language": "python",
   "name": "python3"
  },
  "language_info": {
   "codemirror_mode": {
    "name": "ipython",
    "version": 3
   },
   "file_extension": ".py",
   "mimetype": "text/x-python",
   "name": "python",
   "nbconvert_exporter": "python",
   "pygments_lexer": "ipython3",
   "version": "3.9.12"
  }
 },
 "nbformat": 4,
 "nbformat_minor": 5
}
